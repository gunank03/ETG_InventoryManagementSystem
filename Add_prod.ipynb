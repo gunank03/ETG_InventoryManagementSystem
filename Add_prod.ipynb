{
 "cells": [
  {
   "cell_type": "markdown",
   "id": "1c7c87fd",
   "metadata": {},
   "source": [
    "# Add New Product"
   ]
  },
  {
   "cell_type": "code",
   "execution_count": null,
   "id": "a37a0e70",
   "metadata": {},
   "outputs": [],
   "source": [
    "import json\n",
    "\n",
    "fd = open(\"Record.json\",'r')\n",
    "nxt = fd.read()\n",
    "data = json.loads(nxt)"
   ]
  },
  {
   "cell_type": "code",
   "execution_count": null,
   "id": "830cc716",
   "metadata": {
    "scrolled": true
   },
   "outputs": [],
   "source": [
    "fur_id = input(\"Enter the id of the furniture \")\n",
    "nm = input(\"Enter the name of the furniture \")\n",
    "qty = int(input(\"Add quantity \"))\n",
    "brnd = input(\"Enter brand name \")\n",
    "cst = int(input(\"Enter cost of product \"))\n",
    "wrnty = input(\"Enter warrenty period of product \")\n",
    "\n",
    "data[fur_id]={'name':nm,'qt':qty,'brand':brnd,'cost':cst,'warrenty':wrnty}\n",
    "\n",
    "\n",
    "txt = json.dumps(data)\n",
    "fd = open(\"Record.json\",'w')\n",
    "fd.write(txt)\n",
    "fd.close()"
   ]
  }
 ],
 "metadata": {
  "kernelspec": {
   "display_name": "Python 3",
   "language": "python",
   "name": "python3"
  },
  "language_info": {
   "codemirror_mode": {
    "name": "ipython",
    "version": 3
   },
   "file_extension": ".py",
   "mimetype": "text/x-python",
   "name": "python",
   "nbconvert_exporter": "python",
   "pygments_lexer": "ipython3",
   "version": "3.8.8"
  }
 },
 "nbformat": 4,
 "nbformat_minor": 5
}
