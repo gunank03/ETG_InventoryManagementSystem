{
 "cells": [
  {
   "cell_type": "markdown",
   "id": "b5a7ed15",
   "metadata": {},
   "source": [
    "# Inventory Management System"
   ]
  },
  {
   "cell_type": "code",
   "execution_count": null,
   "id": "0dc38ab1",
   "metadata": {},
   "outputs": [],
   "source": [
    "import json\n",
    "\n",
    "fd = open(\"Record.json\",'r')\n",
    "nxt = fd.read()\n",
    "data = json.loads(nxt)"
   ]
  },
  {
   "cell_type": "code",
   "execution_count": null,
   "id": "00ab4945",
   "metadata": {},
   "outputs": [],
   "source": [
    "ft_id = input(\"Enter the product id - \")\n",
    "\n",
    "print('********************************************')\n",
    "print(\"Name of product is - \",data[ft_id]['name'])\n",
    "print(\"Quantity - \",data[ft_id]['qt'])\n",
    "print(\"Brand - \",data[ft_id]['brand'])\n",
    "print(\"Cost - \",data[ft_id]['cost'])\n",
    "print(\"Warrenty period - \",data[ft_id]['warrenty'])\n",
    "print('********************************************')\n",
    "\n",
    "quant = int(input(\"Enter the quantity - \"))\n",
    "\n",
    "\n",
    "\n",
    "\n",
    "if(quant<=data[ft_id]['qt']):\n",
    "    \n",
    "    billAmt = data[ft_id]['cost'] * quant\n",
    "    data[ft_id]['qt'] -= quant\n",
    "    cstnm = input(\"Customer Name - \")\n",
    "    phno = input('Enter Phone no.')\n",
    "    print('------------------------------')\n",
    "    print(cstnm)\n",
    "    print(phno)\n",
    "    print('------------------------------')\n",
    "    print(\"Billing amount\",billAmt)\n",
    "    \n",
    "else:\n",
    "    print(\"quantity exceeded!\")"
   ]
  },
  {
   "cell_type": "code",
   "execution_count": null,
   "id": "bf1716a4",
   "metadata": {},
   "outputs": [],
   "source": [
    "txt = json.dumps(data)\n",
    "\n",
    "fd = open(\"Record.json\",'w')\n",
    "fd.write(txt)\n",
    "fd.close()"
   ]
  },
  {
   "cell_type": "markdown",
   "id": "28314797",
   "metadata": {},
   "source": [
    "## Sales"
   ]
  },
  {
   "cell_type": "code",
   "execution_count": null,
   "id": "f2ac14ed",
   "metadata": {},
   "outputs": [],
   "source": [
    "fd = open('Sales.json','r')\n",
    "string = fd.read()\n",
    "fd.close()\n",
    "\n",
    "sales = json.loads(string)"
   ]
  },
  {
   "cell_type": "code",
   "execution_count": null,
   "id": "8ef3475e",
   "metadata": {},
   "outputs": [],
   "source": [
    "sales[len(sales)+1] = {'Customer name':cstnm,'product_id':ft_id,'product':data[ft_id]['name'],'Bill_amount':billAmt}"
   ]
  },
  {
   "cell_type": "code",
   "execution_count": null,
   "id": "066cb897",
   "metadata": {},
   "outputs": [],
   "source": [
    "sl = json.dumps(sales)\n",
    "fd = open(\"Sales.json\",\"w\")\n",
    "fd.write(sl)\n",
    "fd.close()"
   ]
  }
 ],
 "metadata": {
  "kernelspec": {
   "display_name": "Python 3",
   "language": "python",
   "name": "python3"
  },
  "language_info": {
   "codemirror_mode": {
    "name": "ipython",
    "version": 3
   },
   "file_extension": ".py",
   "mimetype": "text/x-python",
   "name": "python",
   "nbconvert_exporter": "python",
   "pygments_lexer": "ipython3",
   "version": "3.8.8"
  }
 },
 "nbformat": 4,
 "nbformat_minor": 5
}
